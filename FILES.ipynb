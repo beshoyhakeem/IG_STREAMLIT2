{
 "cells": [
  {
   "cell_type": "code",
   "execution_count": 1,
   "id": "0059abb5",
   "metadata": {},
   "outputs": [],
   "source": [
    "import pandas as pd"
   ]
  },
  {
   "cell_type": "code",
   "execution_count": 2,
   "id": "69e88289",
   "metadata": {},
   "outputs": [],
   "source": [
    "jil = pd.read_csv('C:/Users/besho/Desktop/IG-PROJECT/git pull/IG_STREAMLIT2/files/gpt_rag.csv')"
   ]
  },
  {
   "cell_type": "code",
   "execution_count": 3,
   "id": "8161ac7e",
   "metadata": {},
   "outputs": [
    {
     "data": {
      "text/plain": [
       "Index(['Unnamed: 0', 'Name', 'Country', 'YouTube ID',\n",
       "       'Subscribers\\r\\n(YouTube)', 'Total views\\r\\n(YouTube)',\n",
       "       'Last 30 days videos\\r\\n(YouTube)', 'Last 90 days videos\\r\\n(YouTube)',\n",
       "       'Avg. engagement rate percentile\\r\\n(YouTube)', 'instagramId',\n",
       "       'instagramName', 'Total posts\\r\\n(Instagram)',\n",
       "       'Followers\\r\\n(Instagram)', 'IG Following ', 'IG hashtags',\n",
       "       'IG category', 'IG isVerified', 'Instagram_engageRate_percentile',\n",
       "       'emails', 'combined_categories'],\n",
       "      dtype='object')"
      ]
     },
     "execution_count": 3,
     "metadata": {},
     "output_type": "execute_result"
    }
   ],
   "source": [
    "jil.columns"
   ]
  },
  {
   "cell_type": "code",
   "execution_count": null,
   "id": "4005bc76",
   "metadata": {},
   "outputs": [],
   "source": []
  }
 ],
 "metadata": {
  "kernelspec": {
   "display_name": "Python 3",
   "language": "python",
   "name": "python3"
  },
  "language_info": {
   "codemirror_mode": {
    "name": "ipython",
    "version": 3
   },
   "file_extension": ".py",
   "mimetype": "text/x-python",
   "name": "python",
   "nbconvert_exporter": "python",
   "pygments_lexer": "ipython3",
   "version": "3.10.5"
  }
 },
 "nbformat": 4,
 "nbformat_minor": 5
}
